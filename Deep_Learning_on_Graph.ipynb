{
  "nbformat": 4,
  "nbformat_minor": 0,
  "metadata": {
    "colab": {
      "name": "Deep Learning on Graph.ipynb",
      "provenance": [],
      "authorship_tag": "ABX9TyNM1o3HGhRnIZeM+u7ISNEB",
      "include_colab_link": true
    },
    "kernelspec": {
      "name": "python3",
      "display_name": "Python 3"
    }
  },
  "cells": [
    {
      "cell_type": "markdown",
      "metadata": {
        "id": "view-in-github",
        "colab_type": "text"
      },
      "source": [
        "<a href=\"https://colab.research.google.com/github/musicjae/GNN/blob/main/Deep_Learning_on_Graph.ipynb\" target=\"_parent\"><img src=\"https://colab.research.google.com/assets/colab-badge.svg\" alt=\"Open In Colab\"/></a>"
      ]
    },
    {
      "cell_type": "markdown",
      "metadata": {
        "id": "ssWDN2d2acch"
      },
      "source": [
        "Reference  \r\n",
        "[1] https://www.researchgate.net/publication/343948931_Deep_Learning_on_Graphs_a_Tutorial  \r\n",
        "[2] 그래프 용어 정리 https://gmlwjd9405.github.io/2018/08/13/data-structure-graph.html"
      ]
    },
    {
      "cell_type": "code",
      "metadata": {
        "colab": {
          "base_uri": "https://localhost:8080/"
        },
        "id": "INAZl40UbIW4",
        "outputId": "2b7003a8-6524-4de4-f081-d5f49d5eefed"
      },
      "source": [
        "from google.colab import drive\r\n",
        "drive.mount('/content/drive')\r\n"
      ],
      "execution_count": 3,
      "outputs": [
        {
          "output_type": "stream",
          "text": [
            "Mounted at /content/drive\n"
          ],
          "name": "stdout"
        }
      ]
    },
    {
      "cell_type": "code",
      "metadata": {
        "colab": {
          "base_uri": "https://localhost:8080/"
        },
        "id": "EnrWIEawaXh1",
        "outputId": "8300f9b0-2428-4790-eb93-6f5fc65415ea"
      },
      "source": [
        "!pip install networkx # https://networkx.org/"
      ],
      "execution_count": 4,
      "outputs": [
        {
          "output_type": "stream",
          "text": [
            "Requirement already satisfied: networkx in /usr/local/lib/python3.6/dist-packages (2.5)\n",
            "Collecting as\n",
            "  Downloading https://files.pythonhosted.org/packages/b4/08/226c133ec497d25a63edb38527c02db093c7d89e6d4cdc91078834486a5d/as-0.1-py3-none-any.whl\n",
            "Requirement already satisfied: nx in /usr/local/lib/python3.6/dist-packages (0.0.0)\n",
            "Requirement already satisfied: decorator>=4.3.0 in /usr/local/lib/python3.6/dist-packages (from networkx) (4.4.2)\n",
            "Installing collected packages: as\n",
            "Successfully installed as-0.1\n"
          ],
          "name": "stdout"
        }
      ]
    },
    {
      "cell_type": "code",
      "metadata": {
        "id": "rfbZCZRTb3Up"
      },
      "source": [
        "import networkx as nx"
      ],
      "execution_count": 6,
      "outputs": []
    },
    {
      "cell_type": "markdown",
      "metadata": {
        "id": "qnDu4pI5cs-i"
      },
      "source": [
        "- Edge List  \r\n",
        "  \r\n",
        "0 1  \r\n",
        "\r\n",
        "0 2  \r\n",
        "\r\n",
        "1 2  \r\n",
        "\r\n",
        "1 3  \r\n",
        "\r\n",
        "1 4  \r\n",
        "\r\n",
        "2 4  \r\n",
        "\r\n",
        "2 0  \r\n",
        "\r\n",
        "2 1  \r\n",
        "\r\n",
        "3 4  \r\n",
        "\r\n",
        "3 1  \r\n",
        "\r\n",
        "4 3  \r\n",
        "\r\n",
        "4 0 "
      ]
    },
    {
      "cell_type": "code",
      "metadata": {
        "colab": {
          "base_uri": "https://localhost:8080/",
          "height": 319
        },
        "id": "DnVRu9vjbt4K",
        "outputId": "639245ea-47cc-4956-a31c-e56cb1f633c1"
      },
      "source": [
        "graphex = nx.read_edgelist('/content/drive/MyDrive/dataset/gnn/edge_list.txt',nodetype=int,create_using=nx.DiGraph()) # create_using=nx.DiGraph() 유향 그래프 사용 여부\r\n",
        "labels = {0:'0',1:'1',2:'2',3:'3',4:'4'}\r\n",
        "nx.draw(graphex,labels = labels)"
      ],
      "execution_count": 13,
      "outputs": [
        {
          "output_type": "display_data",
          "data": {
            "image/png": "[encoded data removed]",
            "text/plain": [
              "<Figure size 432x288 with 1 Axes>"
            ]
          },
          "metadata": {
            "tags": []
          }
        }
      ]
    },
    {
      "cell_type": "markdown",
      "metadata": {
        "id": "Ys4L-i_dd4rI"
      },
      "source": [
        "이 그래프에서 노드 0에서 노드 3으로 가는 최단 거리의 길이는 무엇인가?"
      ]
    },
    {
      "cell_type": "code",
      "metadata": {
        "colab": {
          "base_uri": "https://localhost:8080/"
        },
        "id": "aUuzoFhAck_j",
        "outputId": "a9f7650c-7074-4d55-c85b-8d554ee9dcc7"
      },
      "source": [
        "nx.shortest_path_length(graphex,source=0,target=3)"
      ],
      "execution_count": 14,
      "outputs": [
        {
          "output_type": "execute_result",
          "data": {
            "text/plain": [
              "2"
            ]
          },
          "metadata": {
            "tags": []
          },
          "execution_count": 14
        }
      ]
    },
    {
      "cell_type": "markdown",
      "metadata": {
        "id": "i_1gTI2Sd18l"
      },
      "source": [
        "노드 3에서 노드 2로 가는 최단 거리는 무엇인가?"
      ]
    },
    {
      "cell_type": "code",
      "metadata": {
        "colab": {
          "base_uri": "https://localhost:8080/"
        },
        "id": "ZQlcdx8PdvLF",
        "outputId": "276f41e2-a34f-46c8-b901-5970c841491f"
      },
      "source": [
        "nx.shortest_path(graphex,3,2)"
      ],
      "execution_count": 16,
      "outputs": [
        {
          "output_type": "execute_result",
          "data": {
            "text/plain": [
              "[3, 1, 2]"
            ]
          },
          "metadata": {
            "tags": []
          },
          "execution_count": 16
        }
      ]
    },
    {
      "cell_type": "markdown",
      "metadata": {
        "id": "5lnsEFEOgNAL"
      },
      "source": [
        "shortest path computation and graph \r\n",
        "cycle detection."
      ]
    },
    {
      "cell_type": "code",
      "metadata": {
        "colab": {
          "base_uri": "https://localhost:8080/"
        },
        "id": "DviOA_vsgFKA",
        "outputId": "54e23701-322f-4aa1-b9d9-7c9adbc00e4d"
      },
      "source": [
        "for cycle in nx.simple_cycles(graphex):\r\n",
        "    print(cycle)"
      ],
      "execution_count": 17,
      "outputs": [
        {
          "output_type": "stream",
          "text": [
            "[0, 2, 1, 4]\n",
            "[0, 2, 1, 3, 4]\n",
            "[0, 2]\n",
            "[0, 2, 4]\n",
            "[0, 1, 4]\n",
            "[0, 1, 3, 4]\n",
            "[0, 1, 2]\n",
            "[0, 1, 2, 4]\n",
            "[1, 4, 3]\n",
            "[1, 3]\n",
            "[1, 2]\n",
            "[1, 2, 4, 3]\n",
            "[3, 4]\n"
          ],
          "name": "stdout"
        }
      ]
    },
    {
      "cell_type": "markdown",
      "metadata": {
        "id": "Rbfnhfcog2oy"
      },
      "source": [
        "엣지 구하기"
      ]
    },
    {
      "cell_type": "code",
      "metadata": {
        "colab": {
          "base_uri": "https://localhost:8080/"
        },
        "id": "B9pDTig5gpW-",
        "outputId": "acc29c28-e873-4dbf-bd1a-4e5f2774d74c"
      },
      "source": [
        "graphex.edges()"
      ],
      "execution_count": 18,
      "outputs": [
        {
          "output_type": "execute_result",
          "data": {
            "text/plain": [
              "OutEdgeView([(0, 1), (0, 2), (1, 2), (1, 3), (1, 4), (2, 4), (2, 0), (2, 1), (3, 4), (3, 1), (4, 3), (4, 0)])"
            ]
          },
          "metadata": {
            "tags": []
          },
          "execution_count": 18
        }
      ]
    },
    {
      "cell_type": "markdown",
      "metadata": {
        "id": "JahYTn-3g1jQ"
      },
      "source": [
        "차수 구하기"
      ]
    },
    {
      "cell_type": "code",
      "metadata": {
        "colab": {
          "base_uri": "https://localhost:8080/"
        },
        "id": "DH7qEnxrgq-l",
        "outputId": "3c6cb550-fd27-4ba6-93cc-6eae75f8fcd2"
      },
      "source": [
        "graphex.in_degree()"
      ],
      "execution_count": 22,
      "outputs": [
        {
          "output_type": "execute_result",
          "data": {
            "text/plain": [
              "InDegreeView({0: 2, 1: 3, 2: 2, 3: 2, 4: 3})"
            ]
          },
          "metadata": {
            "tags": []
          },
          "execution_count": 22
        }
      ]
    },
    {
      "cell_type": "code",
      "metadata": {
        "colab": {
          "base_uri": "https://localhost:8080/"
        },
        "id": "rQcKGQc1hVU1",
        "outputId": "e6da113e-57df-4489-97c8-4eb705fea25b"
      },
      "source": [
        "graphex.size()"
      ],
      "execution_count": 24,
      "outputs": [
        {
          "output_type": "execute_result",
          "data": {
            "text/plain": [
              "12"
            ]
          },
          "metadata": {
            "tags": []
          },
          "execution_count": 24
        }
      ]
    },
    {
      "cell_type": "markdown",
      "metadata": {
        "id": "Nukimrb8hkYk"
      },
      "source": [
        "- 엣지 속성: weight  \r\n",
        "- 노드 속성: value"
      ]
    },
    {
      "cell_type": "markdown",
      "metadata": {
        "id": "Mx-yMK2KiQL2"
      },
      "source": [
        "엣지 속성 더하기"
      ]
    },
    {
      "cell_type": "code",
      "metadata": {
        "colab": {
          "base_uri": "https://localhost:8080/"
        },
        "id": "gFydICUDhnbT",
        "outputId": "d0c76056-07c6-482d-abf3-f7e8db80d3dc"
      },
      "source": [
        "c = 0\r\n",
        "for edge in graphex.edges():\r\n",
        "    graphex[edge[0]][edge[1]]['weight'] = c\r\n",
        "    c = c+1\r\n",
        "    print(c)\r\n"
      ],
      "execution_count": 66,
      "outputs": [
        {
          "output_type": "stream",
          "text": [
            "1\n",
            "2\n",
            "3\n",
            "4\n",
            "5\n",
            "6\n",
            "7\n",
            "8\n",
            "9\n",
            "10\n",
            "11\n",
            "12\n"
          ],
          "name": "stdout"
        }
      ]
    },
    {
      "cell_type": "code",
      "metadata": {
        "colab": {
          "base_uri": "https://localhost:8080/"
        },
        "id": "c8xb4t_LkEXY",
        "outputId": "65ba8de0-a8a8-4279-bade-d2ee693ac142"
      },
      "source": [
        "for i in range(5):\r\n",
        "    graphex.nodes[i]['value'] = 3.14+i\r\n",
        "print(graphex.nodes[3])"
      ],
      "execution_count": 67,
      "outputs": [
        {
          "output_type": "stream",
          "text": [
            "{'value': 6.140000000000001}\n"
          ],
          "name": "stdout"
        }
      ]
    },
    {
      "cell_type": "code",
      "metadata": {
        "colab": {
          "base_uri": "https://localhost:8080/"
        },
        "id": "BxMeoOakksoo",
        "outputId": "ec5156fb-e9b5-4e25-e47a-d8abd085ff27"
      },
      "source": [
        "graphex.nodes[0]['value']"
      ],
      "execution_count": 69,
      "outputs": [
        {
          "output_type": "execute_result",
          "data": {
            "text/plain": [
              "3.14"
            ]
          },
          "metadata": {
            "tags": []
          },
          "execution_count": 69
        }
      ]
    },
    {
      "cell_type": "markdown",
      "metadata": {
        "id": "kqzMMoS7igC6"
      },
      "source": [
        "## DGL graphs"
      ]
    },
    {
      "cell_type": "markdown",
      "metadata": {
        "id": "J-zJbk43ihrM"
      },
      "source": [
        "Deep Graph Library (DGL) # https://docs.dgl.ai/"
      ]
    },
    {
      "cell_type": "code",
      "metadata": {
        "colab": {
          "base_uri": "https://localhost:8080/"
        },
        "id": "p-oVpqKyi5H0",
        "outputId": "e17711b9-b7db-446b-c3bc-bba458526b2e"
      },
      "source": [
        "!pip install dgl"
      ],
      "execution_count": 34,
      "outputs": [
        {
          "output_type": "stream",
          "text": [
            "Collecting dgl\n",
            "\u001b[?25l  Downloading https://files.pythonhosted.org/packages/46/62/da7146c0e46f93dd1f17cccea3010def155a1f479c0b036b604e952f321f/dgl-0.5.3-cp36-cp36m-manylinux1_x86_64.whl (3.6MB)\n",
            "\u001b[K     |████████████████████████████████| 3.6MB 5.5MB/s \n",
            "\u001b[?25hRequirement already satisfied: requests>=2.19.0 in /usr/local/lib/python3.6/dist-packages (from dgl) (2.23.0)\n",
            "Requirement already satisfied: numpy>=1.14.0 in /usr/local/lib/python3.6/dist-packages (from dgl) (1.19.4)\n",
            "Requirement already satisfied: networkx>=2.1 in /usr/local/lib/python3.6/dist-packages (from dgl) (2.5)\n",
            "Requirement already satisfied: scipy>=1.1.0 in /usr/local/lib/python3.6/dist-packages (from dgl) (1.4.1)\n",
            "Requirement already satisfied: idna<3,>=2.5 in /usr/local/lib/python3.6/dist-packages (from requests>=2.19.0->dgl) (2.10)\n",
            "Requirement already satisfied: certifi>=2017.4.17 in /usr/local/lib/python3.6/dist-packages (from requests>=2.19.0->dgl) (2020.12.5)\n",
            "Requirement already satisfied: urllib3!=1.25.0,!=1.25.1,<1.26,>=1.21.1 in /usr/local/lib/python3.6/dist-packages (from requests>=2.19.0->dgl) (1.24.3)\n",
            "Requirement already satisfied: chardet<4,>=3.0.2 in /usr/local/lib/python3.6/dist-packages (from requests>=2.19.0->dgl) (3.0.4)\n",
            "Requirement already satisfied: decorator>=4.3.0 in /usr/local/lib/python3.6/dist-packages (from networkx>=2.1->dgl) (4.4.2)\n",
            "Installing collected packages: dgl\n",
            "Successfully installed dgl-0.5.3\n"
          ],
          "name": "stdout"
        }
      ]
    },
    {
      "cell_type": "code",
      "metadata": {
        "id": "-eaTaWNPi81f"
      },
      "source": [
        "import dgl\r\n",
        "import torch"
      ],
      "execution_count": 80,
      "outputs": []
    },
    {
      "cell_type": "code",
      "metadata": {
        "colab": {
          "base_uri": "https://localhost:8080/"
        },
        "id": "OXCfXSFYirhy",
        "outputId": "607b51aa-1b06-4736-cf52-34ab0a7a475c"
      },
      "source": [
        "\r\n",
        "dG = dgl.from_networkx(graphex)\r\n",
        "print(type(dG))"
      ],
      "execution_count": 79,
      "outputs": [
        {
          "output_type": "stream",
          "text": [
            "<class 'dgl.heterograph.DGLHeteroGraph'>\n"
          ],
          "name": "stdout"
        }
      ]
    },
    {
      "cell_type": "code",
      "metadata": {
        "colab": {
          "base_uri": "https://localhost:8080/"
        },
        "id": "wYyX9aNXihAS",
        "outputId": "6941e751-faad-47ce-c208-25350e90a531"
      },
      "source": [
        "dG.in_degrees()"
      ],
      "execution_count": 62,
      "outputs": [
        {
          "output_type": "execute_result",
          "data": {
            "text/plain": [
              "tensor([2, 3, 2, 2, 3])"
            ]
          },
          "metadata": {
            "tags": []
          },
          "execution_count": 62
        }
      ]
    },
    {
      "cell_type": "code",
      "metadata": {
        "id": "DpEf8tPwm86W"
      },
      "source": [
        "dG.ndata['one'] = torch.ones(5)\r\n",
        "dG.ndata['deg'] = dG.in_degrees().float()"
      ],
      "execution_count": 82,
      "outputs": []
    },
    {
      "cell_type": "code",
      "metadata": {
        "colab": {
          "base_uri": "https://localhost:8080/"
        },
        "id": "in9sle7EnK0T",
        "outputId": "5594bf9d-2b17-42c6-ab68-a37b4991a2ab"
      },
      "source": [
        "dG.ndata['deg']"
      ],
      "execution_count": 83,
      "outputs": [
        {
          "output_type": "execute_result",
          "data": {
            "text/plain": [
              "tensor([2., 3., 2., 2., 3.])"
            ]
          },
          "metadata": {
            "tags": []
          },
          "execution_count": 83
        }
      ]
    },
    {
      "cell_type": "code",
      "metadata": {
        "colab": {
          "base_uri": "https://localhost:8080/"
        },
        "id": "4i24yFhVnODG",
        "outputId": "95b43334-69c0-474f-93b4-5a9bbf10e5fe"
      },
      "source": [
        "dG.ndata"
      ],
      "execution_count": 85,
      "outputs": [
        {
          "output_type": "execute_result",
          "data": {
            "text/plain": [
              "{'one': tensor([1., 1., 1., 1., 1.]), 'deg': tensor([2., 3., 2., 2., 3.])}"
            ]
          },
          "metadata": {
            "tags": []
          },
          "execution_count": 85
        }
      ]
    },
    {
      "cell_type": "code",
      "metadata": {
        "colab": {
          "base_uri": "https://localhost:8080/"
        },
        "id": "EZUAUOzSnRP4",
        "outputId": "af52e946-7b00-4813-904b-bc47d8d90898"
      },
      "source": [
        "dG.has_node"
      ],
      "execution_count": 87,
      "outputs": [
        {
          "output_type": "execute_result",
          "data": {
            "text/plain": [
              "<bound method DGLHeteroGraph.has_node of Graph(num_nodes=5, num_edges=12,\n",
              "      ndata_schemes={'one': Scheme(shape=(), dtype=torch.float32), 'deg': Scheme(shape=(), dtype=torch.float32)}\n",
              "      edata_schemes={})>"
            ]
          },
          "metadata": {
            "tags": []
          },
          "execution_count": 87
        }
      ]
    },
    {
      "cell_type": "markdown",
      "metadata": {
        "id": "pqiT_8P6nqJE"
      },
      "source": [
        " ## DGL Message Passing"
      ]
    },
    {
      "cell_type": "markdown",
      "metadata": {
        "id": "ENxENzzcnth4"
      },
      "source": [
        "- DGL의 가장 중요한 저차원 특징 중 하나는 메시지가 한 노드에서 다르나 노드로 전달되는 과정이다. 이것은 어떻게 그래프에서 컨볼루션, 트랜스포머 같은 연산이 이용되는가이다."
      ]
    },
    {
      "cell_type": "code",
      "metadata": {
        "id": "f1Xe7RUnns9q"
      },
      "source": [
        ""
      ],
      "execution_count": null,
      "outputs": []
    },
    {
      "cell_type": "code",
      "metadata": {
        "id": "JVgErKcMnptw"
      },
      "source": [
        ""
      ],
      "execution_count": null,
      "outputs": []
    }
  ]
}